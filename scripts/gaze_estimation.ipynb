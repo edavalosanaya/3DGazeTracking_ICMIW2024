{
 "cells": [
  {
   "cell_type": "code",
   "execution_count": 5,
   "metadata": {},
   "outputs": [],
   "source": [
    "# Imports\n",
    "import matplotlib.pyplot as plt\n",
    "import cv2\n",
    "import torch\n",
    "import pathlib\n",
    "import os\n",
    "from tqdm import tqdm\n",
    "import numpy as np\n",
    "from l2cs import Pipeline, render\n",
    "import pandas as pd\n",
    "\n",
    "# Constants \n",
    "CWD = pathlib.Path(os.path.abspath(\"\"))\n",
    "GIT_ROOT = CWD.parent.parent\n",
    "DATA_DIR = GIT_ROOT / \"data\" / 'ICMI2024'\n",
    "OUTPUT_DIR = DATA_DIR / 'gaze_vectors'\n",
    "\n",
    "os.makedirs(OUTPUT_DIR, exist_ok=True)"
   ]
  },
  {
   "cell_type": "code",
   "execution_count": 6,
   "metadata": {},
   "outputs": [],
   "source": [
    "gaze_pipeline = Pipeline(\n",
    "    weights=CWD / 'models' / 'L2CSNet_gaze360.pkl',\n",
    "    arch='ResNet50',\n",
    "    device=torch.device('cuda'), # or 'gpu'\n",
    "    include_detector=False\n",
    ")"
   ]
  },
  {
   "cell_type": "code",
   "execution_count": 12,
   "metadata": {},
   "outputs": [
    {
     "name": "stderr",
     "output_type": "stream",
     "text": [
      "100%|██████████| 52141/52141 [10:51<00:00, 80.08it/s] \n",
      "100%|██████████| 50882/50882 [08:34<00:00, 98.96it/s] \n",
      "100%|██████████| 43030/43030 [06:21<00:00, 112.67it/s]\n",
      "100%|██████████| 57104/57104 [08:33<00:00, 111.25it/s]\n"
     ]
    }
   ],
   "source": [
    "def process(cropped_dir: pathlib.Path, output_file: pathlib.Path):\n",
    "    assert cropped_dir.exists()\n",
    "\n",
    "    output_container = {\"frame\": [], \"tracked_id\": [], \"pitch\": [], \"yaw\": []}\n",
    "\n",
    "    for img_fp in tqdm(cropped_dir.iterdir(), total=len(list(cropped_dir.iterdir()))):\n",
    "        if img_fp.suffix != '.png':\n",
    "            continue\n",
    "\n",
    "        assert img_fp.exists()\n",
    "        frame = cv2.imread(str(img_fp))   \n",
    "\n",
    "        # Process frame and visualize\n",
    "        results = gaze_pipeline.step(frame)\n",
    "        draw = render(frame, results)\n",
    "\n",
    "        # cv2.imshow('frame', draw)\n",
    "        # if cv2.waitKey(1) & 0xFF == ord('q'):\n",
    "        #     break\n",
    "\n",
    "        # Get pitch and yaw\n",
    "        pitch, yaw = results.pitch[0], results.yaw[0]\n",
    "\n",
    "        # Save the data\n",
    "        img_name = img_fp.stem\n",
    "        split_img_name = img_name.split(\"_\")\n",
    "        frame_id = split_img_name[1]\n",
    "        tracked_id = split_img_name[-1]\n",
    "        output_container['frame'].append(int(frame_id))\n",
    "        output_container['tracked_id'].append(int(tracked_id))\n",
    "        output_container['pitch'].append(pitch)\n",
    "        output_container['yaw'].append(yaw)\n",
    "\n",
    "    # At the end, write it\n",
    "    df = pd.DataFrame(output_container)\n",
    "    df = df.sort_values(by=['frame', 'tracked_id'])\n",
    "    df.to_csv(output_file, index=False)\n",
    "\n",
    "process(\n",
    "    DATA_DIR / 'reid' / 'cropped_faces' / 'd1g1',\n",
    "    OUTPUT_DIR / 'gaze_vector_d1g1.csv'\n",
    ")\n",
    "\n",
    "process(\n",
    "    DATA_DIR / 'reid' / 'cropped_faces' / 'd1g2',\n",
    "    OUTPUT_DIR / 'gaze_vector_d1g2.csv'\n",
    ")\n",
    "\n",
    "process(\n",
    "    DATA_DIR / 'reid' / 'cropped_faces' / 'd2g1',\n",
    "    OUTPUT_DIR / 'gaze_vector_d2g1.csv'\n",
    ")\n",
    "\n",
    "process(\n",
    "    DATA_DIR / 'reid' / 'cropped_faces' / 'd2g2',\n",
    "    OUTPUT_DIR / 'gaze_vector_d2g2.csv'\n",
    ")\n",
    "\n",
    "cv2.destroyAllWindows()"
   ]
  }
 ],
 "metadata": {
  "kernelspec": {
   "display_name": "ettk_dev",
   "language": "python",
   "name": "python3"
  },
  "language_info": {
   "codemirror_mode": {
    "name": "ipython",
    "version": 3
   },
   "file_extension": ".py",
   "mimetype": "text/x-python",
   "name": "python",
   "nbconvert_exporter": "python",
   "pygments_lexer": "ipython3",
   "version": "3.10.12"
  }
 },
 "nbformat": 4,
 "nbformat_minor": 2
}
