{
 "cells": [
  {
   "cell_type": "code",
   "execution_count": 1,
   "metadata": {},
   "outputs": [
    {
     "name": "stdout",
     "output_type": "stream",
     "text": [
      "Requirement already satisfied: timm==0.6.7 in /home/nicole/anaconda3/envs/ettk_dev/lib/python3.10/site-packages (0.6.7)\n",
      "Requirement already satisfied: torch>=1.4 in /home/nicole/anaconda3/envs/ettk_dev/lib/python3.10/site-packages (from timm==0.6.7) (2.0.1)\n",
      "Requirement already satisfied: torchvision in /home/nicole/anaconda3/envs/ettk_dev/lib/python3.10/site-packages (from timm==0.6.7) (0.15.2)\n",
      "Requirement already satisfied: filelock in /home/nicole/anaconda3/envs/ettk_dev/lib/python3.10/site-packages (from torch>=1.4->timm==0.6.7) (3.12.2)\n",
      "Requirement already satisfied: typing-extensions in /home/nicole/.local/lib/python3.10/site-packages (from torch>=1.4->timm==0.6.7) (4.8.0)\n",
      "Requirement already satisfied: sympy in /home/nicole/anaconda3/envs/ettk_dev/lib/python3.10/site-packages (from torch>=1.4->timm==0.6.7) (1.12)\n",
      "Requirement already satisfied: networkx in /home/nicole/anaconda3/envs/ettk_dev/lib/python3.10/site-packages (from torch>=1.4->timm==0.6.7) (3.1)\n",
      "Requirement already satisfied: jinja2 in /home/nicole/anaconda3/envs/ettk_dev/lib/python3.10/site-packages (from torch>=1.4->timm==0.6.7) (3.1.2)\n",
      "Requirement already satisfied: nvidia-cuda-nvrtc-cu11==11.7.99 in /home/nicole/anaconda3/envs/ettk_dev/lib/python3.10/site-packages (from torch>=1.4->timm==0.6.7) (11.7.99)\n",
      "Requirement already satisfied: nvidia-cuda-runtime-cu11==11.7.99 in /home/nicole/anaconda3/envs/ettk_dev/lib/python3.10/site-packages (from torch>=1.4->timm==0.6.7) (11.7.99)\n",
      "Requirement already satisfied: nvidia-cuda-cupti-cu11==11.7.101 in /home/nicole/anaconda3/envs/ettk_dev/lib/python3.10/site-packages (from torch>=1.4->timm==0.6.7) (11.7.101)\n",
      "Requirement already satisfied: nvidia-cudnn-cu11==8.5.0.96 in /home/nicole/anaconda3/envs/ettk_dev/lib/python3.10/site-packages (from torch>=1.4->timm==0.6.7) (8.5.0.96)\n",
      "Requirement already satisfied: nvidia-cublas-cu11==11.10.3.66 in /home/nicole/anaconda3/envs/ettk_dev/lib/python3.10/site-packages (from torch>=1.4->timm==0.6.7) (11.10.3.66)\n",
      "Requirement already satisfied: nvidia-cufft-cu11==10.9.0.58 in /home/nicole/anaconda3/envs/ettk_dev/lib/python3.10/site-packages (from torch>=1.4->timm==0.6.7) (10.9.0.58)\n",
      "Requirement already satisfied: nvidia-curand-cu11==10.2.10.91 in /home/nicole/anaconda3/envs/ettk_dev/lib/python3.10/site-packages (from torch>=1.4->timm==0.6.7) (10.2.10.91)\n",
      "Requirement already satisfied: nvidia-cusolver-cu11==11.4.0.1 in /home/nicole/anaconda3/envs/ettk_dev/lib/python3.10/site-packages (from torch>=1.4->timm==0.6.7) (11.4.0.1)\n",
      "Requirement already satisfied: nvidia-cusparse-cu11==11.7.4.91 in /home/nicole/anaconda3/envs/ettk_dev/lib/python3.10/site-packages (from torch>=1.4->timm==0.6.7) (11.7.4.91)\n",
      "Requirement already satisfied: nvidia-nccl-cu11==2.14.3 in /home/nicole/anaconda3/envs/ettk_dev/lib/python3.10/site-packages (from torch>=1.4->timm==0.6.7) (2.14.3)\n",
      "Requirement already satisfied: nvidia-nvtx-cu11==11.7.91 in /home/nicole/anaconda3/envs/ettk_dev/lib/python3.10/site-packages (from torch>=1.4->timm==0.6.7) (11.7.91)\n",
      "Requirement already satisfied: triton==2.0.0 in /home/nicole/anaconda3/envs/ettk_dev/lib/python3.10/site-packages (from torch>=1.4->timm==0.6.7) (2.0.0)\n",
      "Requirement already satisfied: setuptools in /home/nicole/anaconda3/envs/ettk_dev/lib/python3.10/site-packages (from nvidia-cublas-cu11==11.10.3.66->torch>=1.4->timm==0.6.7) (60.10.0)\n",
      "Requirement already satisfied: wheel in /home/nicole/anaconda3/envs/ettk_dev/lib/python3.10/site-packages (from nvidia-cublas-cu11==11.10.3.66->torch>=1.4->timm==0.6.7) (0.37.1)\n",
      "Requirement already satisfied: cmake in /home/nicole/anaconda3/envs/ettk_dev/lib/python3.10/site-packages (from triton==2.0.0->torch>=1.4->timm==0.6.7) (3.26.4)\n",
      "Requirement already satisfied: lit in /home/nicole/anaconda3/envs/ettk_dev/lib/python3.10/site-packages (from triton==2.0.0->torch>=1.4->timm==0.6.7) (16.0.6)\n",
      "Requirement already satisfied: numpy in /home/nicole/anaconda3/envs/ettk_dev/lib/python3.10/site-packages (from torchvision->timm==0.6.7) (1.25.1)\n",
      "Requirement already satisfied: requests in /home/nicole/anaconda3/envs/ettk_dev/lib/python3.10/site-packages (from torchvision->timm==0.6.7) (2.31.0)\n",
      "Requirement already satisfied: pillow!=8.3.*,>=5.3.0 in /home/nicole/anaconda3/envs/ettk_dev/lib/python3.10/site-packages (from torchvision->timm==0.6.7) (10.0.0)\n",
      "Requirement already satisfied: MarkupSafe>=2.0 in /home/nicole/anaconda3/envs/ettk_dev/lib/python3.10/site-packages (from jinja2->torch>=1.4->timm==0.6.7) (2.1.3)\n",
      "Requirement already satisfied: charset-normalizer<4,>=2 in /home/nicole/anaconda3/envs/ettk_dev/lib/python3.10/site-packages (from requests->torchvision->timm==0.6.7) (3.2.0)\n",
      "Requirement already satisfied: idna<4,>=2.5 in /home/nicole/anaconda3/envs/ettk_dev/lib/python3.10/site-packages (from requests->torchvision->timm==0.6.7) (3.4)\n",
      "Requirement already satisfied: urllib3<3,>=1.21.1 in /home/nicole/anaconda3/envs/ettk_dev/lib/python3.10/site-packages (from requests->torchvision->timm==0.6.7) (2.0.3)\n",
      "Requirement already satisfied: certifi>=2017.4.17 in /home/nicole/anaconda3/envs/ettk_dev/lib/python3.10/site-packages (from requests->torchvision->timm==0.6.7) (2023.5.7)\n",
      "Requirement already satisfied: mpmath>=0.19 in /home/nicole/anaconda3/envs/ettk_dev/lib/python3.10/site-packages (from sympy->torch>=1.4->timm==0.6.7) (1.3.0)\n",
      "Note: you may need to restart the kernel to use updated packages.\n"
     ]
    }
   ],
   "source": [
    "# Setup\n",
    "%pip install timm==0.6.7\n",
    "# !git clone https://github.com/isl-org/ZoeDepth.git\n",
    "# !cd ZoeDepth && python sanity.py\n",
    "\n",
    "# Append ZoeDepth to path\n",
    "import sys\n",
    "sys.path.append('ZoeDepth')"
   ]
  },
  {
   "cell_type": "code",
   "execution_count": 2,
   "metadata": {},
   "outputs": [],
   "source": [
    "# Imports\n",
    "from zoedepth.utils.misc import colorize\n",
    "import matplotlib.pyplot as plt\n",
    "import cv2\n",
    "import torch\n",
    "import pathlib\n",
    "import os\n",
    "from tqdm import tqdm\n",
    "import numpy as np\n",
    "\n",
    "# Constants \n",
    "CWD = pathlib.Path(os.path.abspath(\"\"))\n",
    "GIT_ROOT = CWD.parent.parent\n",
    "DATA_DIR = GIT_ROOT / \"data\" / 'ICMI2024'"
   ]
  },
  {
   "cell_type": "code",
   "execution_count": 3,
   "metadata": {},
   "outputs": [
    {
     "name": "stderr",
     "output_type": "stream",
     "text": [
      "Downloading: \"https://github.com/intel-isl/MiDaS/zipball/master\" to /home/nicole/.cache/torch/hub/master.zip\n",
      "Using cache found in /home/nicole/.cache/torch/hub/isl-org_ZoeDepth_main\n"
     ]
    },
    {
     "name": "stdout",
     "output_type": "stream",
     "text": [
      "img_size [384, 512]\n"
     ]
    },
    {
     "name": "stderr",
     "output_type": "stream",
     "text": [
      "Using cache found in /home/nicole/.cache/torch/hub/intel-isl_MiDaS_master\n",
      "/home/nicole/anaconda3/envs/ettk_dev/lib/python3.10/site-packages/torch/functional.py:504: UserWarning: torch.meshgrid: in an upcoming release, it will be required to pass the indexing argument. (Triggered internally at ../aten/src/ATen/native/TensorShape.cpp:3483.)\n",
      "  return _VF.meshgrid(tensors, **kwargs)  # type: ignore[attr-defined]\n"
     ]
    },
    {
     "name": "stdout",
     "output_type": "stream",
     "text": [
      "Params passed to Resize transform:\n",
      "\twidth:  512\n",
      "\theight:  384\n",
      "\tresize_target:  True\n",
      "\tkeep_aspect_ratio:  True\n",
      "\tensure_multiple_of:  32\n",
      "\tresize_method:  minimal\n",
      "Using pretrained resource url::https://github.com/isl-org/ZoeDepth/releases/download/v1.0/ZoeD_M12_NK.pt\n",
      "Loaded successfully\n"
     ]
    }
   ],
   "source": [
    "# References: \n",
    "# https://huggingface.co/spaces/shariqfarooq/ZoeDepth/blob/962e87ab4eb0e419610ddf512841dec2558dcf7c/geometry.py#L3\n",
    "# Load the models\n",
    "torch.hub.help(\"intel-isl/MiDaS\", \"DPT_BEiT_L_384\", force_reload=True)  # Triggers fresh download of MiDaS repo\n",
    "repo = \"isl-org/ZoeDepth\"\n",
    "\n",
    "##### Select model\n",
    "# Zoe_N\n",
    "# model_zoe_n = torch.hub.load(repo, \"ZoeD_N\", pretrained=True)\n",
    "\n",
    "# # Zoe_K\n",
    "# model_zoe_k = torch.hub.load(repo, \"ZoeD_K\", pretrained=True)\n",
    "\n",
    "# Zoe_NK\n",
    "model_zoe_nk = torch.hub.load(repo, \"ZoeD_NK\", pretrained=True)\n",
    "\n",
    "##### sample prediction\n",
    "DEVICE = \"cuda\" if torch.cuda.is_available() else \"cpu\"\n",
    "zoe = model_zoe_nk.to(DEVICE)\n"
   ]
  },
  {
   "cell_type": "code",
   "execution_count": 7,
   "metadata": {},
   "outputs": [
    {
     "name": "stderr",
     "output_type": "stream",
     "text": [
      "100%|██████████| 12029/12029 [1:12:13<00:00,  2.78it/s]\n",
      "100%|██████████| 18834/18834 [1:48:41<00:00,  2.89it/s]\n"
     ]
    }
   ],
   "source": [
    "RECORD = True\n",
    "\n",
    "def process(vid_file, depth_output_file):\n",
    "\n",
    "    # Skip if depth file exists\n",
    "    if depth_output_file.exists():\n",
    "        return\n",
    "\n",
    "    # Load video\n",
    "    assert vid_file.exists()\n",
    "    cap = cv2.VideoCapture(str(vid_file))\n",
    "    fps = cap.get(cv2.CAP_PROP_FPS)\n",
    "    LENGTH = int(cap.get(cv2.CAP_PROP_FRAME_COUNT))\n",
    "    # LENGTH = 10 \n",
    "\n",
    "    # Reset\n",
    "    cap.set(cv2.CAP_PROP_POS_FRAMES, 0)\n",
    "\n",
    "    if RECORD:\n",
    "        # Define the codec and create VideoWriter object\n",
    "        output_file = DATA_DIR / 'rgbd.mp4'\n",
    "        fourcc = cv2.VideoWriter_fourcc(*'mp4v')\n",
    "        # out = cv2.VideoWriter(str(output_file), fourcc, fps, (1920*2, 1080))\n",
    "        fourcc = cv2.VideoWriter_fourcc(*'mp4v')\n",
    "        out_depth = cv2.VideoWriter(str(depth_output_file), fourcc, fps, (1920, 1080), isColor=False)\n",
    "\n",
    "    for i in tqdm(range(LENGTH), total=LENGTH):\n",
    "\n",
    "        # Load frame\n",
    "        ret, frame = cap.read()\n",
    "        if not ret:\n",
    "            break\n",
    "        \n",
    "        # Generate depth\n",
    "        depth = zoe.infer_pil(frame) # (1080,1920)\n",
    "        colored_depth = colorize(depth) # [h,w,4]\n",
    "\n",
    "        # Stich together\n",
    "        img = cv2.hconcat([frame, colored_depth[:,:,:3]])\n",
    "\n",
    "        cv2.imshow('frame', img)\n",
    "        # cv2.imshow('frame', frame)\n",
    "        # cv2.imshow('depth', colored_depth)\n",
    "        if cv2.waitKey(1) & 0xFF == ord('q'):\n",
    "            break\n",
    "\n",
    "        if RECORD:\n",
    "            # out.write(img)\n",
    "            depth_norm = cv2.normalize(depth, None, 0, 255, cv2.NORM_MINMAX, cv2.CV_8UC1)\n",
    "            out_depth.write(depth_norm)\n",
    "\n",
    "    cv2.destroyAllWindows()\n",
    "    if RECORD:\n",
    "        # out.release()\n",
    "        out_depth.release()\n",
    "\n",
    "files = [\n",
    "    # Camera 1\n",
    "    # [DATA_DIR / 'videos' / 'day1' / \"block-a-blue-day1-first-group-cam1.mp4\", DATA_DIR / 'depths' / 'day1' / 'group1-depth-cam1.mp4'],\n",
    "    # [DATA_DIR / 'videos' / 'day1' / \"block-a-blue-day1-second-group-cam1.mp4\", DATA_DIR / 'depths' / 'day1' / 'group2-depth-cam1.mp4'],\n",
    "    # [DATA_DIR / 'videos' / 'day2' / \"block-a-blue-day2-first-group-cam1.mp4\", DATA_DIR / 'depths' / 'day2' / 'group1-depth-cam1.mp4'],\n",
    "    # [DATA_DIR / 'videos' / 'day2' / \"block-a-blue-day2-second-group-cam1.mp4\", DATA_DIR / 'depths' / 'day2' / 'group2-depth-cam1.mp4']\n",
    "\n",
    "    # Camera 2\n",
    "    # [DATA_DIR / 'videos' / 'day1' / \"block-a-blue-day1-first-group-cam2.mp4\", DATA_DIR / 'depths' / 'day1' / 'group1-depth-cam2.mp4'],\n",
    "    # [DATA_DIR / 'videos' / 'day1' / \"block-a-blue-day1-second-group-cam2.mp4\", DATA_DIR / 'depths' / 'day1' / 'group2-depth-cam2.mp4'],\n",
    "    [DATA_DIR / 'videos' / 'day2' / \"block-a-blue-day2-first-group-cam2.mp4\", DATA_DIR / 'depths' / 'day2' / 'group1-depth-cam2.mp4'],\n",
    "    [DATA_DIR / 'videos' / 'day2' / \"block-a-blue-day2-second-group-cam2.mp4\", DATA_DIR / 'depths' / 'day2' / 'group2-depth-cam2.mp4']\n",
    "]\n",
    "\n",
    "for (vid, depth) in files:\n",
    "    process(vid, depth)"
   ]
  }
 ],
 "metadata": {
  "kernelspec": {
   "display_name": "ettk_dev",
   "language": "python",
   "name": "python3"
  },
  "language_info": {
   "codemirror_mode": {
    "name": "ipython",
    "version": 3
   },
   "file_extension": ".py",
   "mimetype": "text/x-python",
   "name": "python",
   "nbconvert_exporter": "python",
   "pygments_lexer": "ipython3",
   "version": "3.10.12"
  }
 },
 "nbformat": 4,
 "nbformat_minor": 2
}
